{
 "cells": [
  {
   "cell_type": "code",
   "execution_count": 4,
   "id": "64b29a87",
   "metadata": {},
   "outputs": [
    {
     "name": "stdout",
     "output_type": "stream",
     "text": [
      "la temperature en fahrenheit, 60\n",
      "60 degres fahrenheit correspondent à 15.555555555555555 degres Celsius.\n"
     ]
    }
   ],
   "source": [
    "#Question 1:\n",
    "def fahrenheit_to_celsius(a):\n",
    "    p = (a-32)/1.8\n",
    "    print(a, \"degres fahrenheit correspondent à\", p , \"degres Celsius.\" )\n",
    "    return\n",
    "a = int(input(\"la temperature en fahrenheit, \",))\n",
    "fahrenheit_to_celsius(a)"
   ]
  },
  {
   "cell_type": "code",
   "execution_count": 5,
   "id": "8003d7fb",
   "metadata": {},
   "outputs": [
    {
     "data": {
      "text/plain": [
       "''"
      ]
     },
     "execution_count": 5,
     "metadata": {},
     "output_type": "execute_result"
    }
   ],
   "source": [
    "#Question 2\n",
    "import tkinter as tk\n",
    "window = tk. Tk()\n",
    "#Question 3\n",
    "window.title(\"Convertisseur de température\")\n",
    "#Question 4\n",
    "window.resizable(width=False, height=False)"
   ]
  },
  {
   "cell_type": "code",
   "execution_count": 9,
   "id": "9972441e",
   "metadata": {},
   "outputs": [],
   "source": [
    "#Question 5\n",
    "frm_entry = tk.Frame(master=window)\n",
    "#Question 6\n",
    "ent_temperature = tk. Entry(master=frm_entry, width=10)\n",
    "# Question 7:\n",
    "lbl_temp = tk. Label(master=frm_entry, text=\"\\N{DEGREE FAHRENHEIT} \")"
   ]
  },
  {
   "cell_type": "code",
   "execution_count": null,
   "id": "5e9fd029",
   "metadata": {},
   "outputs": [],
   "source": []
  }
 ],
 "metadata": {
  "kernelspec": {
   "display_name": "Python 3 (ipykernel)",
   "language": "python",
   "name": "python3"
  },
  "language_info": {
   "codemirror_mode": {
    "name": "ipython",
    "version": 3
   },
   "file_extension": ".py",
   "mimetype": "text/x-python",
   "name": "python",
   "nbconvert_exporter": "python",
   "pygments_lexer": "ipython3",
   "version": "3.9.13"
  }
 },
 "nbformat": 4,
 "nbformat_minor": 5
}
